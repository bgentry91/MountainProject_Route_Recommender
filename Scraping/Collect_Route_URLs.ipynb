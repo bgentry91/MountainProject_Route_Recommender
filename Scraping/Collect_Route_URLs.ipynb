{
 "cells": [
  {
   "cell_type": "code",
   "execution_count": 4,
   "metadata": {
    "ExecuteTime": {
     "end_time": "2018-02-20T13:41:06.717314Z",
     "start_time": "2018-02-20T13:41:06.261592Z"
    },
    "collapsed": true
   },
   "outputs": [],
   "source": [
    "import pandas as pd\n",
    "from bs4 import BeautifulSoup\n",
    "import requests\n",
    "import json"
   ]
  },
  {
   "cell_type": "markdown",
   "metadata": {},
   "source": [
    "### Getting MountainProject.com route URLs for scraping\n",
    "\n",
    "This is a very manual process. To get the most number of URLs at a time, I would go to specific areas and use mountain project's search feature get the largest number of routes possible. This required a number of iterations, as the website will only display up to 1000 routes at a time. You'll have to work on your own strategy for an efficient way to do this."
   ]
  },
  {
   "cell_type": "code",
   "execution_count": 715,
   "metadata": {
    "ExecuteTime": {
     "end_time": "2018-02-20T18:48:11.830744Z",
     "start_time": "2018-02-20T18:48:08.601529Z"
    },
    "collapsed": true
   },
   "outputs": [],
   "source": [
    "\n",
    "from collections import defaultdict\n",
    "from IPython.display import clear_output\n",
    "#URL to scrape routes from\n",
    "url = 'https://www.mountainproject.com/route-finder?diffMaxaid=75260&diffMaxboulder=21400&diffMaxice=38500&diffMaxmixed=60000&diffMaxrock=12400&diffMinaid=70000&diffMinboulder=20000&diffMinice=30000&diffMinmixed=50000&diffMinrock=1000&is_sport_climb=1&is_top_rope=1&is_trad_climb=1&pitches=0&selectedIds=105823538&sort1=popularity%20desc&sort2=rating&stars=0&type=rock&viewAll=1'\n",
    "response = requests.get(url)\n",
    "page = response.text\n",
    "\n",
    "#get the route HTML from the website\n",
    "#it's always 9 digits, so that's helpful!\n",
    "soup = BeautifulSoup(page,\"lxml\")\n",
    "url_dict = {}\n",
    "for row in soup.find_all('a'):\n",
    "    if row.get_attribute_list('href')[0] is not None:\n",
    "        if row.get_attribute_list('href')[0][:38] == 'https://www.mountainproject.com/route/':\n",
    "            url_dict[int(row.get_attribute_list('href')[0][38:47])] = row.get_attribute_list('href')[0]\n",
    "\n",
    "#dataframe it\n",
    "df = pd.DataFrame.from_dict(url_dict, orient='index')\n",
    "df.reset_index(inplace=True)\n",
    "df.rename(columns={'index': 'id', 0: 'url'}, inplace=True)\n"
   ]
  },
  {
   "cell_type": "code",
   "execution_count": null,
   "metadata": {
    "ExecuteTime": {
     "end_time": "2018-03-05T02:58:53.889506Z",
     "start_time": "2018-03-05T02:58:53.670218Z"
    }
   },
   "outputs": [],
   "source": [
    "#concat it, export however you'd like (.csv!)\n",
    "df2 = pd.concat([df2,df])"
   ]
  }
 ],
 "metadata": {
  "kernelspec": {
   "display_name": "Python 3",
   "language": "python",
   "name": "python3"
  },
  "language_info": {
   "codemirror_mode": {
    "name": "ipython",
    "version": 3
   },
   "file_extension": ".py",
   "mimetype": "text/x-python",
   "name": "python",
   "nbconvert_exporter": "python",
   "pygments_lexer": "ipython3",
   "version": "3.6.4"
  }
 },
 "nbformat": 4,
 "nbformat_minor": 2
}
