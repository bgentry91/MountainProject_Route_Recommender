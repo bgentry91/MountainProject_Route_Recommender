{
 "cells": [
  {
   "cell_type": "code",
   "execution_count": 357,
   "metadata": {
    "ExecuteTime": {
     "end_time": "2018-02-27T19:04:31.252202Z",
     "start_time": "2018-02-27T19:04:30.605463Z"
    },
    "collapsed": true
   },
   "outputs": [],
   "source": [
    "import pandas as pd\n",
    "import numpy as np\n",
    "from nltk.tokenize import sent_tokenize\n",
    "from sklearn.decomposition import NMF\n",
    "from sklearn.feature_extraction.text import TfidfVectorizer, CountVectorizer\n",
    "import pickle\n",
    "pd.set_option('display.max_columns', 500)\n"
   ]
  },
  {
   "cell_type": "markdown",
   "metadata": {},
   "source": [
    "### Building NMF probability matrix for extrinsic model - will calculate cosine similarities on this!"
   ]
  },
  {
   "cell_type": "code",
   "execution_count": 358,
   "metadata": {
    "ExecuteTime": {
     "end_time": "2018-02-27T19:04:31.418681Z",
     "start_time": "2018-02-27T19:04:31.257241Z"
    },
    "collapsed": true
   },
   "outputs": [],
   "source": [
    "with open(\"df_train.pkl\", 'rb') as picklefile: \n",
    "    df_train = pickle.load(picklefile)"
   ]
  },
  {
   "cell_type": "code",
   "execution_count": 359,
   "metadata": {
    "ExecuteTime": {
     "end_time": "2018-02-27T19:04:31.807485Z",
     "start_time": "2018-02-27T19:04:31.422218Z"
    },
    "collapsed": true
   },
   "outputs": [],
   "source": [
    "with open(\"df_sent.pkl\", 'rb') as picklefile: \n",
    "    df_sent = pickle.load(picklefile)"
   ]
  },
  {
   "cell_type": "code",
   "execution_count": 360,
   "metadata": {
    "ExecuteTime": {
     "end_time": "2018-02-27T19:04:32.486540Z",
     "start_time": "2018-02-27T19:04:32.047288Z"
    },
    "collapsed": true
   },
   "outputs": [],
   "source": [
    "with open(\"full_dataset.pkl\", 'rb') as picklefile: \n",
    "    df = pickle.load(picklefile)"
   ]
  },
  {
   "cell_type": "markdown",
   "metadata": {},
   "source": [
    "### Training data is smaller subset for speed improvements"
   ]
  },
  {
   "cell_type": "code",
   "execution_count": 362,
   "metadata": {
    "ExecuteTime": {
     "end_time": "2018-02-27T19:04:55.143598Z",
     "start_time": "2018-02-27T19:04:54.539467Z"
    },
    "collapsed": true
   },
   "outputs": [],
   "source": [
    "X = df_train.sentence\n",
    "X_Full = df_sent.sentence"
   ]
  },
  {
   "cell_type": "markdown",
   "metadata": {},
   "source": [
    "### TFIDF on sentences to vectorize, NMF to model\n",
    "* Max_df is very important!\n",
    "* Reducing max_features for speed\n",
    "* Building vectorizer on subset, tranforming all data\n",
    "* NMF for high number of components (black box, who cares?)\n",
    "* Again, fit NMF on training, transform all for final results"
   ]
  },
  {
   "cell_type": "code",
   "execution_count": 364,
   "metadata": {
    "ExecuteTime": {
     "end_time": "2018-02-27T19:05:12.341855Z",
     "start_time": "2018-02-27T19:04:56.016987Z"
    },
    "collapsed": true
   },
   "outputs": [],
   "source": [
    "# NMF is able to use tf-idf\n",
    "tfidf_vectorizer = TfidfVectorizer(max_df =.01,max_features=10000, stop_words='english')\n",
    "tfidf_vectorizer.fit(X)\n",
    "tfidf = tfidf_vectorizer.transform(X)\n",
    "tfidf_full = tfidf_vectorizer.transform(X_Full)"
   ]
  },
  {
   "cell_type": "code",
   "execution_count": 365,
   "metadata": {
    "ExecuteTime": {
     "end_time": "2018-02-27T19:07:03.088866Z",
     "start_time": "2018-02-27T19:05:12.345749Z"
    },
    "collapsed": true
   },
   "outputs": [],
   "source": [
    "# Run NMF\n",
    "nmf = NMF(n_components=50, random_state=1, alpha=.1, l1_ratio=.5, init='nndsvd')\n",
    "nmf.fit(tfidf)\n",
    "nmf_p = nmf.transform(tfidf_full)"
   ]
  },
  {
   "cell_type": "markdown",
   "metadata": {},
   "source": [
    "### Convert probabilities to dataframe & pickle for use in app"
   ]
  },
  {
   "cell_type": "code",
   "execution_count": 368,
   "metadata": {
    "ExecuteTime": {
     "end_time": "2018-02-27T19:07:03.263549Z",
     "start_time": "2018-02-27T19:07:03.164274Z"
    },
    "collapsed": true
   },
   "outputs": [],
   "source": [
    "#make probability matrix (sentences)\n",
    "df_sent_pb = pd.DataFrame(nmf_p)\n",
    "df_sent_pb['id'] = df_sent['id']\n",
    "df_sent_pb.set_index('id', inplace=True)"
   ]
  },
  {
   "cell_type": "code",
   "execution_count": 337,
   "metadata": {
    "ExecuteTime": {
     "end_time": "2018-02-23T19:41:23.776883Z",
     "start_time": "2018-02-23T19:41:23.447609Z"
    },
    "collapsed": true
   },
   "outputs": [],
   "source": [
    "#final probability matrix (combine sentences)\n",
    "df_doc_pb = df_sent_pb.groupby('id').sum()"
   ]
  },
  {
   "cell_type": "code",
   "execution_count": 350,
   "metadata": {
    "ExecuteTime": {
     "end_time": "2018-02-23T19:53:08.672765Z",
     "start_time": "2018-02-23T19:53:06.556869Z"
    },
    "collapsed": true
   },
   "outputs": [],
   "source": [
    "with open('probability_matrix_10000_50.pkl', 'wb') as picklefile:\n",
    "    pickle.dump(df_sent_pb, picklefile)"
   ]
  },
  {
   "cell_type": "markdown",
   "metadata": {},
   "source": [
    "### See rec_routes.py for flask app and use of this model!"
   ]
  }
 ],
 "metadata": {
  "kernelspec": {
   "display_name": "Python 3",
   "language": "python",
   "name": "python3"
  },
  "language_info": {
   "codemirror_mode": {
    "name": "ipython",
    "version": 3
   },
   "file_extension": ".py",
   "mimetype": "text/x-python",
   "name": "python",
   "nbconvert_exporter": "python",
   "pygments_lexer": "ipython3",
   "version": "3.6.4"
  }
 },
 "nbformat": 4,
 "nbformat_minor": 2
}
