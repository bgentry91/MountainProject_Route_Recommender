{
 "cells": [
  {
   "cell_type": "code",
   "execution_count": 1,
   "metadata": {
    "ExecuteTime": {
     "end_time": "2018-03-01T16:31:56.987757Z",
     "start_time": "2018-03-01T16:31:54.394357Z"
    },
    "collapsed": true
   },
   "outputs": [],
   "source": [
    "import pandas as pd\n",
    "import pickle\n"
   ]
  },
  {
   "cell_type": "markdown",
   "metadata": {},
   "source": [
    "### Code to build extrinsic model based on user data\n",
    "* User data is difficult to pull - only used 1700 users in model (proof of concept?)"
   ]
  },
  {
   "cell_type": "markdown",
   "metadata": {},
   "source": [
    "### Read in user URLs (copied manually) and clean up - can be any number of digits"
   ]
  },
  {
   "cell_type": "code",
   "execution_count": 2,
   "metadata": {
    "ExecuteTime": {
     "end_time": "2018-03-01T16:31:57.656627Z",
     "start_time": "2018-03-01T16:31:57.625117Z"
    },
    "collapsed": true
   },
   "outputs": [],
   "source": [
    "##read in user URLS from csv and clean up\n",
    "df = pd.read_csv(\"users.csv\",names=['user_url'])"
   ]
  },
  {
   "cell_type": "code",
   "execution_count": 3,
   "metadata": {
    "ExecuteTime": {
     "end_time": "2018-03-01T16:31:58.584050Z",
     "start_time": "2018-03-01T16:31:58.579555Z"
    },
    "collapsed": true
   },
   "outputs": [],
   "source": [
    "def convert(s):\n",
    "    import re\n",
    "    return re.findall('\\d+', s)\n",
    "    "
   ]
  },
  {
   "cell_type": "code",
   "execution_count": 4,
   "metadata": {
    "ExecuteTime": {
     "end_time": "2018-03-01T16:31:59.865423Z",
     "start_time": "2018-03-01T16:31:59.297492Z"
    },
    "collapsed": true
   },
   "outputs": [],
   "source": [
    "df['userId'] = df.apply(lambda x:convert(x['user_url'][37:46]), axis=1)"
   ]
  },
  {
   "cell_type": "code",
   "execution_count": 5,
   "metadata": {
    "ExecuteTime": {
     "end_time": "2018-03-01T16:32:00.344424Z",
     "start_time": "2018-03-01T16:32:00.329525Z"
    },
    "collapsed": true
   },
   "outputs": [],
   "source": [
    "df = df.groupby(['user_url','userId']).count()"
   ]
  },
  {
   "cell_type": "code",
   "execution_count": 6,
   "metadata": {
    "ExecuteTime": {
     "end_time": "2018-03-01T16:32:01.683652Z",
     "start_time": "2018-03-01T16:32:01.677091Z"
    },
    "collapsed": true
   },
   "outputs": [],
   "source": [
    "df.reset_index(inplace=True)"
   ]
  },
  {
   "cell_type": "markdown",
   "metadata": {},
   "source": [
    "### Function to get user's last 100 ticks from mountainproject API\n",
    "* Get your own API key at mountainproject.com"
   ]
  },
  {
   "cell_type": "code",
   "execution_count": 7,
   "metadata": {
    "ExecuteTime": {
     "end_time": "2018-03-01T16:32:02.717824Z",
     "start_time": "2018-03-01T16:32:02.699188Z"
    },
    "collapsed": true
   },
   "outputs": [],
   "source": [
    "def get_ticks(email = None, userId = None):\n",
    "    import requests\n",
    "    import json\n",
    "    if email is None and userId is None:\n",
    "        print('Error - nothing passed')\n",
    "        return []\n",
    "\n",
    "    key = 'your_api_key_goes_here'\n",
    "    if email is not None:\n",
    "        if userId is not None:\n",
    "            print('Input UserID OR Email')\n",
    "            return []\n",
    "        else:\n",
    "            url = 'https://www.mountainproject.com/data/get-ticks?email=' + email + '&key=' + key   \n",
    "    else:\n",
    "        url = 'https://www.mountainproject.com/data/get-ticks?userId=' + str(userId) + '&key=' + key\n",
    "        \n",
    "    r = requests.get(url)\n",
    "\n",
    "    data = r.json()\n",
    "\n",
    "    start_list = []\n",
    "\n",
    "    for route in data['ticks']:\n",
    "        start_list.append(route['routeId'])\n",
    "    \n",
    "    return start_list"
   ]
  },
  {
   "cell_type": "markdown",
   "metadata": {},
   "source": [
    "### Iterate through all users to get ticks, put it in a dictionary\n",
    "* Pickle it for later so you don't have to do this again\n",
    "* Be nice to mountainproject, they are a great resource!!!"
   ]
  },
  {
   "cell_type": "code",
   "execution_count": null,
   "metadata": {
    "ExecuteTime": {
     "end_time": "2018-03-01T16:32:09.064889Z",
     "start_time": "2018-03-01T16:32:04.754992Z"
    },
    "collapsed": true
   },
   "outputs": [],
   "source": [
    "#get user ticks, put them in a dictionary\n",
    "d = {}\n",
    "for user in df.userId:\n",
    "    d[user] = get_ticks(userId = user)\n",
    "    "
   ]
  },
  {
   "cell_type": "code",
   "execution_count": null,
   "metadata": {
    "ExecuteTime": {
     "end_time": "2018-03-01T16:31:46.911682Z",
     "start_time": "2018-03-01T16:23:21.680Z"
    },
    "collapsed": true,
    "run_control": {
     "marked": false
    }
   },
   "outputs": [],
   "source": [
    "with open('user_ticks_dict.pkl', 'wb') as picklefile:\n",
    "    pickle.dump(d, picklefile)"
   ]
  },
  {
   "cell_type": "code",
   "execution_count": 9,
   "metadata": {
    "ExecuteTime": {
     "end_time": "2018-03-01T16:32:49.899648Z",
     "start_time": "2018-03-01T16:32:49.859819Z"
    },
    "collapsed": true
   },
   "outputs": [],
   "source": [
    "with open(\"user_ticks_dict.pkl\", 'rb') as picklefile: \n",
    "    d = pickle.load(picklefile)"
   ]
  },
  {
   "cell_type": "markdown",
   "metadata": {},
   "source": [
    "### Cleaning up users/routes and building sparse matrix"
   ]
  },
  {
   "cell_type": "code",
   "execution_count": 10,
   "metadata": {
    "ExecuteTime": {
     "end_time": "2018-03-01T16:32:54.079219Z",
     "start_time": "2018-03-01T16:32:54.023608Z"
    },
    "collapsed": true,
    "run_control": {
     "marked": false
    }
   },
   "outputs": [],
   "source": [
    "#get unique routes from all users\n",
    "route_list = []\n",
    "for key in d:\n",
    "    route_list.extend(d[key])\n",
    "\n",
    "unique_routes = list(set(route_list))"
   ]
  },
  {
   "cell_type": "code",
   "execution_count": 11,
   "metadata": {
    "ExecuteTime": {
     "end_time": "2018-03-01T16:32:55.073840Z",
     "start_time": "2018-03-01T16:32:55.068743Z"
    },
    "collapsed": true
   },
   "outputs": [],
   "source": [
    "#create list of users\n",
    "user_list = []\n",
    "for key in d:\n",
    "    user_list.append(key)"
   ]
  },
  {
   "cell_type": "code",
   "execution_count": 12,
   "metadata": {
    "ExecuteTime": {
     "end_time": "2018-03-01T16:37:16.564870Z",
     "start_time": "2018-03-01T16:32:57.130041Z"
    },
    "collapsed": true
   },
   "outputs": [],
   "source": [
    "#create sparse dictionary of all users & routes\n",
    "from collections import defaultdict\n",
    "d2 = defaultdict(list)\n",
    "for user in user_list:\n",
    "    for route in unique_routes:\n",
    "        if route in d[user]:\n",
    "            d2[user].append(1)\n",
    "        else:\n",
    "            d2[user].append(0)"
   ]
  },
  {
   "cell_type": "code",
   "execution_count": 13,
   "metadata": {
    "ExecuteTime": {
     "end_time": "2018-03-01T16:37:46.261499Z",
     "start_time": "2018-03-01T16:37:23.371403Z"
    },
    "collapsed": true
   },
   "outputs": [],
   "source": [
    "#make it a dataframe!\n",
    "df2 = pd.DataFrame.from_dict(d2)"
   ]
  },
  {
   "cell_type": "markdown",
   "metadata": {},
   "source": [
    "### NMF to get probabilities and components - output dense matrix\n",
    "* Use dot product of these output matricies to build dense matrix from sparse matrix\n",
    "* This is one of my favorite things - see presentation for explanation!"
   ]
  },
  {
   "cell_type": "code",
   "execution_count": 14,
   "metadata": {
    "ExecuteTime": {
     "end_time": "2018-03-01T16:42:01.135256Z",
     "start_time": "2018-03-01T16:37:48.095094Z"
    },
    "collapsed": true
   },
   "outputs": [],
   "source": [
    "from sklearn.decomposition import NMF\n",
    "nmf = NMF(n_components=20)\n",
    "probs = nmf.fit_transform(df2)"
   ]
  },
  {
   "cell_type": "code",
   "execution_count": 15,
   "metadata": {
    "ExecuteTime": {
     "end_time": "2018-03-01T16:43:28.131739Z",
     "start_time": "2018-03-01T16:43:26.857010Z"
    },
    "collapsed": true
   },
   "outputs": [],
   "source": [
    "filled_array = np.dot(probs,nmf.components_)"
   ]
  },
  {
   "cell_type": "code",
   "execution_count": 16,
   "metadata": {
    "ExecuteTime": {
     "end_time": "2018-03-01T16:43:29.440980Z",
     "start_time": "2018-03-01T16:43:29.361127Z"
    },
    "collapsed": true
   },
   "outputs": [],
   "source": [
    "df_out = pd.DataFrame(filled_array,columns=user_list, index=unique_routes)"
   ]
  },
  {
   "cell_type": "code",
   "execution_count": 19,
   "metadata": {
    "ExecuteTime": {
     "end_time": "2018-03-01T16:44:04.421396Z",
     "start_time": "2018-03-01T16:43:55.562931Z"
    },
    "collapsed": true
   },
   "outputs": [],
   "source": [
    "with open('user_prefs.pkl', 'wb') as picklefile:\n",
    "    pickle.dump(df_out, picklefile)"
   ]
  }
 ],
 "metadata": {
  "kernelspec": {
   "display_name": "Python 3",
   "language": "python",
   "name": "python3"
  },
  "language_info": {
   "codemirror_mode": {
    "name": "ipython",
    "version": 3
   },
   "file_extension": ".py",
   "mimetype": "text/x-python",
   "name": "python",
   "nbconvert_exporter": "python",
   "pygments_lexer": "ipython3",
   "version": "3.6.4"
  }
 },
 "nbformat": 4,
 "nbformat_minor": 2
}
